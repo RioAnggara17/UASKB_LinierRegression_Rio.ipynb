{
  "nbformat": 4,
  "nbformat_minor": 0,
  "metadata": {
    "colab": {
      "name": "UASKB_LinierRegression_Rio",
      "provenance": [],
      "collapsed_sections": [],
      "authorship_tag": "ABX9TyPUVhL82BN7M2a8CdbTelFp",
      "include_colab_link": true
    },
    "kernelspec": {
      "name": "python3",
      "display_name": "Python 3"
    }
  },
  "cells": [
    {
      "cell_type": "markdown",
      "metadata": {
        "id": "view-in-github",
        "colab_type": "text"
      },
      "source": [
        "<a href=\"https://colab.research.google.com/github/RioAnggara17/UASKB_LinierRegression_Rio.ipynb/blob/main/UASKB_LinierRegression_Rio.ipynb\" target=\"_parent\"><img src=\"https://colab.research.google.com/assets/colab-badge.svg\" alt=\"Open In Colab\"/></a>"
      ]
    },
    {
      "cell_type": "code",
      "metadata": {
        "colab": {
          "base_uri": "https://localhost:8080/",
          "height": 282
        },
        "id": "be3wBD2UvdYh",
        "outputId": "5d79c2af-8f9f-4788-c4f7-59f245c47267"
      },
      "source": [
        "import numpy as np\r\n",
        "import matplotlib.pyplot as plt\r\n",
        "#data kapasitas mobil\r\n",
        "capacity = np.array([3,3,4,4,4,4,4,6,6,6,])\r\n",
        "#data harga mobil (dalam jutaan rupiah)\r\n",
        "car_price = np.array ([200,215,250,250,260,275,280,350,360,375])\r\n",
        "%matplotlib inline\r\n",
        "plt.scatter(capacity,car_price)\r\n",
        "from sklearn.linear_model import LinearRegression\r\n",
        "capacity = capacity.reshape(-1, 1)\r\n",
        "linreg = LinearRegression()\r\n",
        "linreg.fit(capacity, car_price)\r\n",
        "plt.scatter(capacity, car_price)\r\n",
        "plt.plot(capacity, linreg.predict(capacity))"
      ],
      "execution_count": null,
      "outputs": [
        {
          "output_type": "execute_result",
          "data": {
            "text/plain": [
              "[<matplotlib.lines.Line2D at 0x7f54ea0f8898>]"
            ]
          },
          "metadata": {
            "tags": []
          },
          "execution_count": 40
        },
        {
          "output_type": "display_data",
          "data": {
            "image/png": "[encoded data removed]",
            "text/plain": [
              "<Figure size 432x288 with 1 Axes>"
            ]
          },
          "metadata": {
            "tags": [],
            "needs_background": "light"
          }
        }
      ]
    }
  ]
}